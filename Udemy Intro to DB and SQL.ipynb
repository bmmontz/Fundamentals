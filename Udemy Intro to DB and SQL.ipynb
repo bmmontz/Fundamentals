{
    "metadata": {
        "kernelspec": {
            "name": "SQL",
            "display_name": "SQL",
            "language": "sql"
        },
        "language_info": {
            "name": "sql",
            "version": ""
        }
    },
    "nbformat_minor": 2,
    "nbformat": 4,
    "cells": [
        {
            "cell_type": "markdown",
            "source": [
                "## Udemy Introduction to databases & SQL Querying Notes"
            ],
            "metadata": {
                "azdata_cell_guid": "73b16150-401c-48ef-beb6-e5657d52b0f8"
            },
            "attachments": {}
        },
        {
            "cell_type": "code",
            "source": [
                "CREATE DATABASE mytestdb\n",
                "\n",
                "CREATE TABLE mytesttable\n",
                "(\n",
                "rollno int,\n",
                "firstname varchar(50),\n",
                "lastname varchar(50)\n",
                ");\n",
                "\n",
                "SELECT *\n",
                "FROM mytesttable;\n",
                "\n",
                "INSERT INTO mytesttable(rollno, firstname, lastname)\n",
                "VALUES(1, 'RAKESH', 'GOPAL');\n",
                "\n",
                "SELECT *\n",
                "FROM mytesttable;"
            ],
            "metadata": {
                "azdata_cell_guid": "1f6ef555-24d1-42af-9424-5a299fda4b5e",
                "language": "sql",
                "tags": [
                    "hide_input"
                ]
            },
            "outputs": [],
            "execution_count": null
        },
        {
            "cell_type": "markdown",
            "source": [
                "Show all Department Names"
            ],
            "metadata": {
                "language": "sql",
                "azdata_cell_guid": "28430a30-cf7f-4f3c-a87f-963e09517f04"
            },
            "attachments": {}
        },
        {
            "cell_type": "code",
            "source": [
                "USE AdventureWorks2019;\r\n",
                "SELECT name\r\n",
                "FROM [HumanResources].[Department]\r\n",
                ";"
            ],
            "metadata": {
                "language": "sql",
                "azdata_cell_guid": "7ffef52d-bcfb-4182-b601-1d29c0f45837",
                "tags": [
                    "hide_input"
                ]
            },
            "outputs": [],
            "execution_count": null
        },
        {
            "cell_type": "markdown",
            "source": [
                "DISTINCT Group Name"
            ],
            "metadata": {
                "language": "sql",
                "azdata_cell_guid": "72875a2f-0a11-47db-90a9-d04208ad580c"
            },
            "attachments": {}
        },
        {
            "cell_type": "code",
            "source": [
                "SELECT DISTINCT GroupName\r\n",
                "FROM [HumanResources].[Department];"
            ],
            "metadata": {
                "language": "sql",
                "azdata_cell_guid": "5ed1a58a-b618-4521-96e7-24643fb07217"
            },
            "outputs": [],
            "execution_count": null
        },
        {
            "cell_type": "markdown",
            "source": [
                "COUNT all Group Names"
            ],
            "metadata": {
                "language": "sql",
                "azdata_cell_guid": "92efa284-4545-43c9-b820-5f77bc9ace5e"
            },
            "attachments": {}
        },
        {
            "cell_type": "code",
            "source": [
                "SELECT COUNT(GroupName)\r\n",
                "FROM [HumanResources].[Department];"
            ],
            "metadata": {
                "language": "sql",
                "azdata_cell_guid": "631eb863-1189-49bb-8d0e-cc2cb8f578ac"
            },
            "outputs": [],
            "execution_count": null
        },
        {
            "cell_type": "markdown",
            "source": [
                "COUNT the DISTINCT Group Names"
            ],
            "metadata": {
                "language": "sql",
                "azdata_cell_guid": "36272624-6870-4820-ae94-200e09eff16f"
            },
            "attachments": {}
        },
        {
            "cell_type": "code",
            "source": [
                "SELECT COUNT(DISTINCT GroupName)\r\n",
                "FROM [HumanResources].[Department];"
            ],
            "metadata": {
                "language": "sql",
                "azdata_cell_guid": "697f2239-297f-45e5-830e-b4c884bd98ce"
            },
            "outputs": [],
            "execution_count": null
        },
        {
            "cell_type": "markdown",
            "source": [
                "Filtering using the WHERE & LIKE functions\n",
                "\n",
                "-  Notice that when filtering for Name, we used LIKE and when filtering for OrganizationLevel we used the **\\=**  sign this is due to the different DataTypes between the two columns"
            ],
            "metadata": {
                "language": "sql",
                "azdata_cell_guid": "c184a433-ef86-4de3-a9d0-dc51b57ed54d"
            },
            "attachments": {}
        },
        {
            "cell_type": "markdown",
            "source": [
                "show departments that are part of Manufacturing"
            ],
            "metadata": {
                "language": "sql",
                "azdata_cell_guid": "2ed69aab-c82f-406b-8cc8-7cdec173f1a9"
            },
            "attachments": {}
        },
        {
            "cell_type": "code",
            "source": [
                "SELECT Name, GroupName\r\n",
                "FROM [HumanResources].[Department]\r\n",
                "WHERE GroupName LIKE 'Manufacturing';"
            ],
            "metadata": {
                "language": "sql",
                "azdata_cell_guid": "3249b39f-df12-443f-b561-8b866bac0676"
            },
            "outputs": [],
            "execution_count": null
        },
        {
            "cell_type": "markdown",
            "source": [
                "show all employees who have organization level of 2"
            ],
            "metadata": {
                "language": "sql",
                "azdata_cell_guid": "3f48ecb0-82bf-4299-9742-73c90a9268bd"
            },
            "attachments": {}
        },
        {
            "cell_type": "code",
            "source": [
                "SELECT *\r\n",
                "FROM [HumanResources].[Employee]\r\n",
                "WHERE OrganizationLevel = 2;"
            ],
            "metadata": {
                "language": "sql",
                "azdata_cell_guid": "a1042aa0-c90a-4e97-8308-3735e4e60991"
            },
            "outputs": [],
            "execution_count": null
        },
        {
            "cell_type": "markdown",
            "source": [
                "show all employees who have OrgLevel of 2 or 3"
            ],
            "metadata": {
                "language": "sql",
                "azdata_cell_guid": "91668cd2-c17b-4daf-99e2-2574d044de83"
            },
            "attachments": {}
        },
        {
            "cell_type": "code",
            "source": [
                "SELECT *\r\n",
                "FROM [HumanResources].[Employee]\r\n",
                "WHERE OrganizationLevel IN (2,3);"
            ],
            "metadata": {
                "language": "sql",
                "azdata_cell_guid": "3b34437c-b255-4ff3-978b-059e118cc044"
            },
            "outputs": [],
            "execution_count": null
        },
        {
            "cell_type": "markdown",
            "source": [
                "show employees who have title as facilities manager\n",
                "\n",
                "- If I added 2 spaces after 'Manager' the Result would be empty because we are looking for an exact match. This is why it is important to have clean data"
            ],
            "metadata": {
                "language": "sql",
                "azdata_cell_guid": "e2e628b6-b47b-437a-9bcc-ad8a7eed9206"
            },
            "attachments": {}
        },
        {
            "cell_type": "code",
            "source": [
                "SELECT *\r\n",
                "FROM [HumanResources].[Employee]\r\n",
                "WHERE JobTitle LIKE 'Facilities Manager';"
            ],
            "metadata": {
                "language": "sql",
                "azdata_cell_guid": "995fdbdb-7931-4710-a5bc-21db1496af0d"
            },
            "outputs": [],
            "execution_count": null
        },
        {
            "cell_type": "markdown",
            "source": [
                "show all employees who have the word Manager in their title\n",
                "\n",
                "- when this query is ran the result is emptry because it is looking for an Exact Match adding a '%' enables a wildcard which means any word can be before the word Manager"
            ],
            "metadata": {
                "language": "sql",
                "azdata_cell_guid": "56936144-d06b-4343-bc11-7ba076d43eb1"
            },
            "attachments": {}
        },
        {
            "cell_type": "code",
            "source": [
                "SELECT *\r\n",
                "FROM [HumanResources].[Employee]\r\n",
                "WHERE JobTitle LIKE '%Manager';\r\n",
                "\r\n",
                "SELECT *\r\n",
                "FROM [HumanResources].[Employee]\r\n",
                "WHERE JobTitle LIKE '%Control%';"
            ],
            "metadata": {
                "language": "sql",
                "azdata_cell_guid": "468159ad-1d4a-411d-ab81-f99aa5ffcb5d"
            },
            "outputs": [],
            "execution_count": null
        },
        {
            "cell_type": "markdown",
            "source": [
                "show employees born after Jan 1, 1980"
            ],
            "metadata": {
                "language": "sql",
                "azdata_cell_guid": "1161ae13-51e9-4a7c-910c-9c3f55cb58f9"
            },
            "attachments": {}
        },
        {
            "cell_type": "code",
            "source": [
                "SELECT *\r\n",
                "FROM [HumanResources].[Employee]\r\n",
                "WHERE BirthDate > '1/1/1980';"
            ],
            "metadata": {
                "language": "sql",
                "azdata_cell_guid": "ec4bd44c-9fb0-41e6-83bc-1df183748c00"
            },
            "outputs": [],
            "execution_count": null
        },
        {
            "cell_type": "markdown",
            "source": [
                "show employees born BETWEEN jan 1, 1970 and Jan 1, 1980"
            ],
            "metadata": {
                "language": "sql",
                "azdata_cell_guid": "b7ae1ec4-748a-4d3c-99bd-dbfdb1179354"
            },
            "attachments": {}
        },
        {
            "cell_type": "code",
            "source": [
                "SELECT *\r\n",
                "FROM [HumanResources].[Employee]\r\n",
                "WHERE BirthDate > '1/1/1970' AND BirthDate < '1/1/1980';"
            ],
            "metadata": {
                "language": "sql",
                "azdata_cell_guid": "f5ed7991-f13c-40f2-8ebe-f0c043f2d3e2"
            },
            "outputs": [],
            "execution_count": null
        },
        {
            "cell_type": "markdown",
            "source": [
                "Calculated Columns"
            ],
            "metadata": {
                "language": "sql",
                "azdata_cell_guid": "7df1a963-9805-4491-b167-f8daf4fe7f64"
            },
            "attachments": {}
        },
        {
            "cell_type": "code",
            "source": [
                "SELECT *\r\n",
                "FROM [Production].[Product];\r\n",
                "\r\n",
                "SELECT Name, ListPrice\r\n",
                "FROM [Production].[Product];\r\n",
                "\r\n",
                "SELECT Name, ListPrice, ListPrice + 10 AS Adjusted_List_Price\r\n",
                "FROM [Production].[Product];\r\n",
                ""
            ],
            "metadata": {
                "language": "sql",
                "azdata_cell_guid": "859f27d0-1731-4377-8610-7d7b5faebfde",
                "tags": []
            },
            "outputs": [],
            "execution_count": 5
        },
        {
            "cell_type": "markdown",
            "source": [
                "Storing the previous query as a new permanent Table using INTO"
            ],
            "metadata": {
                "language": "sql",
                "azdata_cell_guid": "575f5675-3c0d-44f9-b3e2-74e2bd6eac91"
            },
            "attachments": {}
        },
        {
            "cell_type": "code",
            "source": [
                "SELECT Name, ListPrice, ListPrice + 10 AS Adjusted_List_Price\r\n",
                "INTO [Production].[Product_2]\r\n",
                "FROM [Production].[Product];"
            ],
            "metadata": {
                "language": "sql",
                "azdata_cell_guid": "4622433e-b571-46c6-85a0-23d8be3fa020"
            },
            "outputs": [],
            "execution_count": null
        },
        {
            "cell_type": "markdown",
            "source": [
                "use # to create a Temporary table"
            ],
            "metadata": {
                "language": "sql",
                "azdata_cell_guid": "ee2f97a0-dfc4-4ef8-842e-6daa5fe80f1c"
            },
            "attachments": {}
        },
        {
            "cell_type": "code",
            "source": [
                "SELECT Name, ListPrice, ListPrice + 10 AS Adjusted_List_Price\r\n",
                "INTO #tempname\r\n",
                "FROM [Production].[Product];\r\n",
                "\r\n",
                "SELECT *\r\n",
                "FROM #tempname;"
            ],
            "metadata": {
                "language": "sql",
                "azdata_cell_guid": "c24bdb5f-318a-43e1-8890-c89797bd2fe5"
            },
            "outputs": [],
            "execution_count": null
        },
        {
            "cell_type": "markdown",
            "source": [
                "Delete data from a table"
            ],
            "metadata": {
                "language": "sql",
                "azdata_cell_guid": "0d5d251c-f7bf-4e9f-8f5e-0cfa1a42ffbe"
            },
            "attachments": {}
        },
        {
            "cell_type": "code",
            "source": [
                "DELETE FROM [Production].[Product_2]\r\n",
                "WHERE Name LIKE 'Bearing Ball';\r\n",
                "\r\n",
                "SELECT *\r\n",
                "FROM [Production].[Product_2];"
            ],
            "metadata": {
                "language": "sql",
                "azdata_cell_guid": "84c3412f-aa7d-400c-8c45-f1b7d61fb68a"
            },
            "outputs": [],
            "execution_count": null
        },
        {
            "cell_type": "markdown",
            "source": [
                "Updating data in a table"
            ],
            "metadata": {
                "language": "sql",
                "azdata_cell_guid": "2834ea67-0a81-4f8c-93d7-73fb78399b7c"
            },
            "attachments": {}
        },
        {
            "cell_type": "code",
            "source": [
                "UPDATE [Production].[Product_2]\r\n",
                "SET Name = 'Blade_New'\r\n",
                "WHERE Name LIKE 'Blade';\r\n",
                "\r\n",
                "SELECT * \r\n",
                "FROM [Production].[Product_2];"
            ],
            "metadata": {
                "language": "sql",
                "azdata_cell_guid": "a19f842f-44f4-4745-a1c9-eb33552b2408"
            },
            "outputs": [],
            "execution_count": null
        },
        {
            "cell_type": "markdown",
            "source": [
                "## JOINS"
            ],
            "metadata": {
                "language": "sql",
                "azdata_cell_guid": "89d4328d-dacc-4437-abe1-5c8cc8676958"
            },
            "attachments": {}
        },
        {
            "cell_type": "code",
            "source": [
                "USE mytestdb;\r\n",
                "DROP TABLE IF EXISTS dbo.MyEmployee;\r\n",
                "CREATE TABLE MyEmployee\r\n",
                "(\r\n",
                "EmployeeId INT,\r\n",
                "FirstName VARCHAR(20),\r\n",
                "Lastname VARCHAR(20)\r\n",
                ")\r\n",
                "\r\n",
                "INSERT INTO MyEmployee VALUES (1, 'Michael', 'Scott')\r\n",
                "INSERT INTO MyEmployee VALUES (2, 'Pam', 'Beesly')\r\n",
                "INSERT INTO MyEmployee VALUES (3, 'Dwight', 'Schrute')\r\n",
                "\r\n",
                "SELECT *\r\n",
                "FROM MyEmployee;\r\n",
                "\r\n",
                "DROP TABLE IF EXISTS dbo.MySalary;\r\n",
                "CREATE TABLE MySalary\r\n",
                "(\r\n",
                "EmployeeId INT,\r\n",
                "Salary FLOAT\r\n",
                ");\r\n",
                "\r\n",
                "INSERT INTO MySalary VALUES (1, 10000)\r\n",
                "INSERT INTO MySalary VALUES (2, 8000)\r\n",
                "INSERT INTO MySalary VALUES (3, 6000)\r\n",
                "\r\n",
                "\r\n",
                "SELECT *\r\n",
                "FROM MyEmployee\r\n",
                "SELECT *\r\n",
                "FROM MySalary"
            ],
            "metadata": {
                "language": "sql",
                "azdata_cell_guid": "c519ecde-5d05-469b-be64-2e55aebb4f5e"
            },
            "outputs": [],
            "execution_count": null
        },
        {
            "cell_type": "markdown",
            "source": [
                "INNER JOIN\n",
                "\n",
                "- only returns rows that are common in BOTH tables"
            ],
            "metadata": {
                "azdata_cell_guid": "6121034a-62b0-4e76-856c-d6ccc1c5fcdd"
            },
            "attachments": {}
        },
        {
            "cell_type": "code",
            "source": [
                "SELECT A.FirstName, A.Lastname, B.Salary\r\n",
                "FROM MyEmployee A INNER JOIN MySalary B ON A.EmployeeId = B.EmployeeId;"
            ],
            "metadata": {
                "azdata_cell_guid": "309edebd-5387-480f-be6a-4d4fc3cbd8a4",
                "language": "sql",
                "tags": [
                    "hide_input"
                ]
            },
            "outputs": [],
            "execution_count": null
        },
        {
            "cell_type": "markdown",
            "source": [
                "LEFT OUTER JOIN\n",
                "\n",
                "-  return everything from table 1 and only rows that are common in table 2"
            ],
            "metadata": {
                "azdata_cell_guid": "8c9b31e3-ad13-43e7-8dd4-a63947ae4376"
            },
            "attachments": {}
        },
        {
            "cell_type": "code",
            "source": [
                "DROP TABLE IF EXISTS dbo.MyPhone;\r\n",
                "CREATE TABLE MyPhone\r\n",
                "(\r\n",
                "EmployeId INT,\r\n",
                "PhoneNumber INT\r\n",
                ");\r\n",
                "\r\n",
                "INSERT INTO MyPhone VALUES (1, 12345678)\r\n",
                "INSERT INTO MyPhone VALUES (2, 99944455)\r\n",
                "\r\n",
                "SELECT *\r\n",
                "FROM MyEmployee\r\n",
                "SELECT *\r\n",
                "FROM MyPhone;\r\n",
                "\r\n",
                "SELECT A.FirstName, A.Lastname, B.PhoneNumber\r\n",
                "FROM MyEmployee A LEFT JOIN MyPhone B\r\n",
                "ON A.EmployeeId = B.EmployeId;"
            ],
            "metadata": {
                "azdata_cell_guid": "710eeee8-e488-4bef-9e9d-2803a6490528",
                "language": "sql"
            },
            "outputs": [],
            "execution_count": null
        },
        {
            "cell_type": "markdown",
            "source": [
                "RIGHT OUTER JOIN\n",
                "\n",
                "- returns everything from table 2 and only rows that are common in table 1"
            ],
            "metadata": {
                "azdata_cell_guid": "62f418c3-1c76-430f-a798-57f61803dbb9"
            },
            "attachments": {}
        },
        {
            "cell_type": "code",
            "source": [
                "DROP TABLE IF EXISTS dbo.MyParking;\r\n",
                "CREATE TABLE MyParking\r\n",
                "(\r\n",
                "EmployeeId INT,\r\n",
                "ParkingSpot VARCHAR(20)\r\n",
                ");\r\n",
                "\r\n",
                "INSERT INTO MyParking VALUES (1, 'a1')\r\n",
                "INSERT INTO MyParking VALUES (2, 'a2')\r\n",
                "\r\n",
                "SELECT *\r\n",
                "FROM MyEmployee;\r\n",
                "SELECT *\r\n",
                "FROM MyParking;\r\n",
                ""
            ],
            "metadata": {
                "azdata_cell_guid": "ec3999c5-d4e5-4f32-86d7-98a7109465dc",
                "language": "sql"
            },
            "outputs": [],
            "execution_count": null
        },
        {
            "cell_type": "markdown",
            "source": [
                "OUTER JOIN\n",
                "\n",
                "- all rows from table 1 and table 2 will be joined. Rows that are not common between the 2 tables will appear as Null"
            ],
            "metadata": {
                "azdata_cell_guid": "e977972f-f271-418c-b56a-39650bf5afeb"
            },
            "attachments": {}
        },
        {
            "cell_type": "code",
            "source": [
                "DROP TABLE IF EXISTS dbo.MyCustomer;\r\n",
                "CREATE TABLE MyCustomer\r\n",
                "(\r\n",
                "CustomerID INT,\r\n",
                "Customer VARCHAR(20)\r\n",
                ");\r\n",
                "TRUNCATE TABLE MyCustomer\r\n",
                "INSERT INTO MyCustomer VALUES (1, 'Rakesh')\r\n",
                "INSERT INTO MyCustomer VALUES (3, 'John')\r\n",
                "\r\n",
                "CREATE TABLE MyOrder\r\n",
                "(\r\n",
                "OrderNumber INT,\r\n",
                "OrderName VARCHAR(20),\r\n",
                "CustomerId INT);\r\n",
                "\r\n",
                "INSERT INTO MyOrder VALUES (1, 'SomeOrder1', 1)\r\n",
                "INSERT INTO MyOrder VALUES (2, 'SomeOrder2', 2)\r\n",
                "INSERT INTO MyOrder VALUES (3, 'SomeOrder3', 7)\r\n",
                "INSERT INTO MyOrder VALUES (4, 'SomeOrder4', 8)\r\n",
                "\r\n",
                "SELECT *\r\n",
                "FROM MyCustomer;\r\n",
                "\r\n",
                "SELECT *\r\n",
                "FROM MyOrder;\r\n",
                "\r\n",
                "SELECT A.CustomerID, A.Customer, B.OrderNumber, B.OrderName\r\n",
                "FROM MyCustomer A FULL OUTER JOIN MyOrder B\r\n",
                "ON A.CustomerID = B.CustomerId;\r\n",
                ""
            ],
            "metadata": {
                "azdata_cell_guid": "95309a87-edac-4d8b-92ca-227633a2a590",
                "language": "sql"
            },
            "outputs": [],
            "execution_count": null
        },
        {
            "cell_type": "markdown",
            "source": [
                "CROSS JOIN\n",
                "\n",
                "- includes rows from both tables"
            ],
            "metadata": {
                "azdata_cell_guid": "d6c6f358-9a81-42dc-ab2e-af03c4a05339"
            },
            "attachments": {}
        },
        {
            "cell_type": "code",
            "source": [
                "SELECT *\r\n",
                "FROM MyCustomer;\r\n",
                "SELECT *\r\n",
                "FROM MySalary;\r\n",
                "\r\n",
                "SELECT *\r\n",
                "FROM MyCustomer CROSS JOIN MySalary;\r\n",
                "\r\n",
                ""
            ],
            "metadata": {
                "azdata_cell_guid": "062bbde4-cebf-40d5-9d8e-7cc6e6bda826",
                "language": "sql"
            },
            "outputs": [],
            "execution_count": null
        },
        {
            "cell_type": "markdown",
            "source": [
                "DATES"
            ],
            "metadata": {
                "azdata_cell_guid": "cb1b7ece-e8da-4df6-b477-4c230cc79c95"
            },
            "attachments": {}
        },
        {
            "cell_type": "code",
            "source": [
                "SELECT GETDATE()"
            ],
            "metadata": {
                "azdata_cell_guid": "75804973-bda6-41e9-aedf-509a19a444a7",
                "language": "sql"
            },
            "outputs": [],
            "execution_count": null
        },
        {
            "cell_type": "markdown",
            "source": [
                "Querying the date from 2 days ago"
            ],
            "metadata": {
                "language": "sql",
                "azdata_cell_guid": "6ac98cc9-bdd9-45ca-bc91-f997a802d131"
            },
            "attachments": {}
        },
        {
            "cell_type": "code",
            "source": [
                "SELECT GETDATE() - 2"
            ],
            "metadata": {
                "language": "sql",
                "azdata_cell_guid": "6f7e6c84-ddc6-4f40-97e2-9a8657e8a00b"
            },
            "outputs": [],
            "execution_count": null
        },
        {
            "cell_type": "markdown",
            "source": [
                "Querying a specific part of a date"
            ],
            "metadata": {
                "language": "sql",
                "azdata_cell_guid": "83767415-0afc-4bd2-bc2b-875ef076ff38"
            },
            "attachments": {}
        },
        {
            "cell_type": "code",
            "source": [
                "SELECT DATEPART(yyyy,GETDATE()) AS Year;\r\n",
                "\r\n",
                "SELECT DATEPART(mm,GETDATE()) AS Month;\r\n",
                "\r\n",
                "SELECT DATEPART(dd,GETDATE()) AS Day;"
            ],
            "metadata": {
                "language": "sql",
                "azdata_cell_guid": "3739ac92-64d6-4fd2-ae0e-83181a8461fe"
            },
            "outputs": [],
            "execution_count": null
        },
        {
            "cell_type": "markdown",
            "source": [
                "Adding to a specific date"
            ],
            "metadata": {
                "language": "sql",
                "azdata_cell_guid": "bdd6299a-612b-47d1-b9d5-cb9e9efdf4a2"
            },
            "attachments": {}
        },
        {
            "cell_type": "code",
            "source": [
                "SELECT DATEADD(day, 4, GETDATE());\r\n",
                "\r\n",
                "SELECT DATEADD(month, 4, GETDATE());\r\n",
                "\r\n",
                "SELECT DATEADD(year, 4, GETDATE());"
            ],
            "metadata": {
                "language": "sql",
                "azdata_cell_guid": "01b9d858-1200-4c9d-9233-8d1cc8a0668c"
            },
            "outputs": [],
            "execution_count": null
        },
        {
            "cell_type": "markdown",
            "source": [
                "Querying the first day of the month"
            ],
            "metadata": {
                "language": "sql",
                "azdata_cell_guid": "849d5c50-5ea9-4a86-a110-55ba849bbe4b"
            },
            "attachments": {}
        },
        {
            "cell_type": "markdown",
            "source": [
                "## AGGREGATE FUNCTIONS"
            ],
            "metadata": {
                "language": "sql",
                "azdata_cell_guid": "02699ad9-cdd8-4c95-84b1-83fd14a2bf1f"
            },
            "attachments": {}
        },
        {
            "cell_type": "code",
            "source": [
                "SELECT *\r\n",
                "FROM MySalary;\r\n",
                "\r\n",
                "SELECT AVG(Salary)\r\n",
                "FROM MySalary;\r\n",
                "\r\n",
                "SELECT COUNT(Salary)\r\n",
                "FROM MySalary;\r\n",
                "\r\n",
                "SELECT *\r\n",
                "FROM MySalary;\r\n",
                "\r\n",
                "SELECT SUM(Salary)\r\n",
                "FROM MySalary;\r\n",
                "\r\n",
                "SELECT MIN(Salary)\r\n",
                "FROM MySalary;\r\n",
                ""
            ],
            "metadata": {
                "language": "sql",
                "azdata_cell_guid": "3159c1c3-be26-49d2-aed5-07911b39c684"
            },
            "outputs": [],
            "execution_count": null
        },
        {
            "cell_type": "markdown",
            "source": [
                "String Functions"
            ],
            "metadata": {
                "language": "sql",
                "azdata_cell_guid": "c5586e8b-96bf-47e6-811c-95b64b36b6ed"
            },
            "attachments": {}
        },
        {
            "cell_type": "code",
            "source": [
                "SELECT *\r\n",
                "FROM MyOrder\r\n",
                "\r\n",
                "PRINT CONCAT('String 1', ' String 2')\r\n",
                "\r\n",
                "SELECT OrderNumber, OrderName,\r\n",
                "CONCAT(OrderNumber, ' ', OrderName) AS ConcatenatedText\r\n",
                "FROM MyOrder\r\n",
                "\r\n",
                "SELECT OrderNumber, OrderName,\r\n",
                "CONCAT(OrderName, ' ', RAND()) AS ConcatenatedText\r\n",
                "FROM MyOrder"
            ],
            "metadata": {
                "language": "sql",
                "azdata_cell_guid": "2320f6b2-7d27-44ae-b932-08721f477ecf"
            },
            "outputs": [],
            "execution_count": null
        },
        {
            "cell_type": "markdown",
            "source": [
                "Selecting the first 5 characters on the Left  Side"
            ],
            "metadata": {
                "language": "sql",
                "azdata_cell_guid": "2df2ccbc-2bd8-42ce-8b1f-c7abddb78c95"
            },
            "attachments": {}
        },
        {
            "cell_type": "code",
            "source": [
                "SELECT OrderNumber, OrderName,\r\n",
                "LEFT(OrderName, 5)\r\n",
                "FROM MyOrder"
            ],
            "metadata": {
                "language": "sql",
                "azdata_cell_guid": "e796e3df-8272-44c0-b9c1-5f46446bc2c8"
            },
            "outputs": [],
            "execution_count": null
        },
        {
            "cell_type": "markdown",
            "source": [
                "Selecting the first 5 characters on the Right Side"
            ],
            "metadata": {
                "language": "sql",
                "azdata_cell_guid": "e6cabefa-c4eb-4e8f-a236-c9972549219d"
            },
            "attachments": {}
        },
        {
            "cell_type": "code",
            "source": [
                "SELECT OrderNumber, OrderName,\r\n",
                "RIGHT(OrderName, 5)\r\n",
                "FROM MyOrder"
            ],
            "metadata": {
                "language": "sql",
                "azdata_cell_guid": "c3e60f02-25bc-4c59-a6df-fcab0012b835"
            },
            "outputs": [],
            "execution_count": null
        },
        {
            "cell_type": "markdown",
            "source": [
                "Using Substring\n",
                "\n",
                "- The '2' tells the query to start on the 2nd character and the '5' tells it to move 5 characters forward"
            ],
            "metadata": {
                "language": "sql",
                "azdata_cell_guid": "ce945f62-70c7-44de-a7f2-bd1a5ca51232"
            },
            "attachments": {}
        },
        {
            "cell_type": "code",
            "source": [
                "SELECT OrderNumber, OrderName,\r\n",
                "SUBSTRING(OrderName, 2, 5)\r\n",
                "FROM MyOrder"
            ],
            "metadata": {
                "language": "sql",
                "azdata_cell_guid": "9344b722-e6c1-49b8-9284-5c585ef10990"
            },
            "outputs": [],
            "execution_count": null
        },
        {
            "cell_type": "markdown",
            "source": [
                "Lowercase"
            ],
            "metadata": {
                "language": "sql",
                "azdata_cell_guid": "b479876a-a2e1-45f5-b114-5841819c1262"
            },
            "attachments": {}
        },
        {
            "cell_type": "code",
            "source": [
                "SELECT OrderNumber, OrderName,\r\n",
                "LOWER(OrderName)\r\n",
                "FROM MyOrder"
            ],
            "metadata": {
                "language": "sql",
                "azdata_cell_guid": "26f28703-7a54-4bf2-add3-39ccfecb717a"
            },
            "outputs": [],
            "execution_count": null
        },
        {
            "cell_type": "markdown",
            "source": [
                "Uppercase"
            ],
            "metadata": {
                "language": "sql",
                "azdata_cell_guid": "e698b4e7-107b-48f7-9441-52e1e477990f"
            },
            "attachments": {}
        },
        {
            "cell_type": "code",
            "source": [
                "SELECT OrderNumber, OrderName,\r\n",
                "UPPER(OrderName)\r\n",
                "FROM MyOrder"
            ],
            "metadata": {
                "language": "sql",
                "azdata_cell_guid": "00aa7316-7be7-4cf0-98ba-ba002cc7c52c"
            },
            "outputs": [],
            "execution_count": null
        },
        {
            "cell_type": "markdown",
            "source": [
                "Length"
            ],
            "metadata": {
                "language": "sql",
                "azdata_cell_guid": "0c673a15-5b6b-4000-a4cb-55779958d3d4"
            },
            "attachments": {}
        },
        {
            "cell_type": "code",
            "source": [
                "SELECT OrderNumber, OrderName,\r\n",
                "LEN(OrderName)\r\n",
                "FROM MyOrder;\r\n",
                "\r\n",
                "SELECT OrderNumber, OrderName,\r\n",
                "CONCAT(UPPER(LEFT(OrderName, 1)),\r\n",
                "LOWER(SUBSTRING(OrderName, 2, LEN(OrderName))))\r\n",
                "FROM MyOrder;"
            ],
            "metadata": {
                "language": "sql",
                "azdata_cell_guid": "26275b82-bd0a-4fc2-858f-0a3c169baf8a"
            },
            "outputs": [],
            "execution_count": null
        },
        {
            "cell_type": "markdown",
            "source": [
                "Trim\n",
                "\n",
                "- LEFT TRIM\n",
                "- RIGHT TRIM"
            ],
            "metadata": {
                "language": "sql",
                "azdata_cell_guid": "10406193-89ab-466f-8d71-35ea51f3682c"
            },
            "attachments": {}
        },
        {
            "cell_type": "code",
            "source": [
                "SELECT LEN('MyText');\r\n",
                "\r\n",
                "SELECT LEN('    MyText   ');\r\n",
                "\r\n",
                "SELECT LTRIM('    MyText   ');\r\n",
                "\r\n",
                "SELECT RTRIM('    MyText   ');\r\n",
                "\r\n",
                "SELECT TRIM('    MyText   ');"
            ],
            "metadata": {
                "language": "sql",
                "azdata_cell_guid": "dba76f4f-962c-4316-98f8-f09adae6643f"
            },
            "outputs": [],
            "execution_count": null
        }
    ]
}